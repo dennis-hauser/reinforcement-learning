{
  "nbformat": 4,
  "nbformat_minor": 0,
  "metadata": {
    "colab": {
      "provenance": [],
      "authorship_tag": "ABX9TyOJfocMP8NmgYjLihBbzmpH",
      "include_colab_link": true
    },
    "kernelspec": {
      "name": "python3",
      "display_name": "Python 3"
    },
    "language_info": {
      "name": "python"
    }
  },
  "cells": [
    {
      "cell_type": "markdown",
      "metadata": {
        "id": "view-in-github",
        "colab_type": "text"
      },
      "source": [
        "<a href=\"https://colab.research.google.com/github/dennis-hauser/reinforcement-learning/blob/main/RL_CartPole_v1.ipynb\" target=\"_parent\"><img src=\"https://colab.research.google.com/assets/colab-badge.svg\" alt=\"Open In Colab\"/></a>"
      ]
    },
    {
      "cell_type": "code",
      "execution_count": null,
      "metadata": {
        "colab": {
          "base_uri": "https://localhost:8080/"
        },
        "id": "1geNaISc0KjD",
        "outputId": "b73b7e1e-8591-47e7-db23-9219f2cc0e37"
      },
      "outputs": [
        {
          "output_type": "stream",
          "name": "stdout",
          "text": [
            "\u001b[?25l     \u001b[90m━━━━━━━━━━━━━━━━━━━━━━━━━━━━━━━━━━━━━━━━\u001b[0m \u001b[32m0.0/721.7 kB\u001b[0m \u001b[31m?\u001b[0m eta \u001b[36m-:--:--\u001b[0m\r\u001b[2K     \u001b[91m━━━━━━━━━━━━━━━\u001b[0m\u001b[91m╸\u001b[0m\u001b[90m━━━━━━━━━━━━━━━━━━━━━━━━\u001b[0m \u001b[32m286.7/721.7 kB\u001b[0m \u001b[31m7.9 MB/s\u001b[0m eta \u001b[36m0:00:01\u001b[0m\r\u001b[2K     \u001b[91m━━━━━━━━━━━━━━━━━━━━━━━━━━━━━━━━━━━━━━━\u001b[0m\u001b[91m╸\u001b[0m \u001b[32m716.8/721.7 kB\u001b[0m \u001b[31m11.3 MB/s\u001b[0m eta \u001b[36m0:00:01\u001b[0m\r\u001b[2K     \u001b[90m━━━━━━━━━━━━━━━━━━━━━━━━━━━━━━━━━━━━━━━━\u001b[0m \u001b[32m721.7/721.7 kB\u001b[0m \u001b[31m9.3 MB/s\u001b[0m eta \u001b[36m0:00:00\u001b[0m\n",
            "\u001b[?25h  Installing build dependencies ... \u001b[?25l\u001b[?25hdone\n",
            "  Getting requirements to build wheel ... \u001b[?25l\u001b[?25hdone\n",
            "  Preparing metadata (pyproject.toml) ... \u001b[?25l\u001b[?25hdone\n",
            "  Building wheel for gym (pyproject.toml) ... \u001b[?25l\u001b[?25hdone\n",
            "\u001b[31mERROR: pip's dependency resolver does not currently take into account all the packages that are installed. This behaviour is the source of the following dependency conflicts.\n",
            "dopamine-rl 4.0.6 requires gym<=0.25.2, but you have gym 0.26.2 which is incompatible.\u001b[0m\u001b[31m\n",
            "\u001b[0m"
          ]
        }
      ],
      "source": [
        "%pip install -q -U gym\n",
        "#%pip install -q -U gym[classic_control,box2d,atari,accept-rom-license];"
      ]
    },
    {
      "cell_type": "code",
      "source": [
        "from matplotlib.pyplot import imshow\n",
        "import numpy as np\n",
        "import gym\n",
        "import tensorflow as tf"
      ],
      "metadata": {
        "id": "EAo-kdi35I8t"
      },
      "execution_count": null,
      "outputs": []
    },
    {
      "cell_type": "markdown",
      "source": [
        "In this notebook you can find my code for the examples of the book: **Hands-On Machine Learning with Scikit-Learn, Keras, & TensorFlow** by Aurélien Géron \\\n",
        "Notebooks from the author are in the following GitHub Repo: https://github.com/ageron/handson-ml2"
      ],
      "metadata": {
        "id": "Le7XfjVYgBiX"
      }
    },
    {
      "cell_type": "markdown",
      "source": [
        "The cart pole environment exists of a cart with a pole on top of it. The cart can be pushed left or right. Based on those actions the cart moves and the pole on it accordingly. \\\n",
        "See documentation: https://www.gymlibrary.dev/environments/classic_control/cart_pole/"
      ],
      "metadata": {
        "id": "gP6C94HkXy5d"
      }
    },
    {
      "cell_type": "code",
      "source": [
        "env = gym.make(\"CartPole-v1\", render_mode=\"rgb_array\")\n",
        "#gym.envs.registry"
      ],
      "metadata": {
        "id": "D49naZnB1cxF"
      },
      "execution_count": null,
      "outputs": []
    },
    {
      "cell_type": "code",
      "source": [
        "# Check the environment specification\n",
        "gym.envs.registry.get(\"CartPole-v1\")"
      ],
      "metadata": {
        "colab": {
          "base_uri": "https://localhost:8080/"
        },
        "id": "FyI3U_fm2YOW",
        "outputId": "ad2f99ff-1d1c-4102-b0d0-5e4bdec60b2f"
      },
      "execution_count": null,
      "outputs": [
        {
          "output_type": "execute_result",
          "data": {
            "text/plain": [
              "EnvSpec(id='CartPole-v1', entry_point='gym.envs.classic_control.cartpole:CartPoleEnv', reward_threshold=475.0, nondeterministic=False, max_episode_steps=500, order_enforce=True, autoreset=False, disable_env_checker=False, apply_api_compatibility=False, kwargs={}, namespace=None, name='CartPole', version=1)"
            ]
          },
          "metadata": {},
          "execution_count": 4
        }
      ]
    },
    {
      "cell_type": "code",
      "source": [
        "# Initialize the environment and get the first observation\n",
        "obs, info = env.reset(seed=42)\n",
        "obs"
      ],
      "metadata": {
        "colab": {
          "base_uri": "https://localhost:8080/"
        },
        "id": "dnEadSTF1nwh",
        "outputId": "d32dcef8-88a2-4980-b614-31e8d7b1e43c"
      },
      "execution_count": null,
      "outputs": [
        {
          "output_type": "execute_result",
          "data": {
            "text/plain": [
              "array([ 0.0273956 , -0.00611216,  0.03585979,  0.0197368 ], dtype=float32)"
            ]
          },
          "metadata": {},
          "execution_count": 5
        }
      ]
    },
    {
      "cell_type": "markdown",
      "source": [
        "Parameters of the observation space: \\\n",
        "0: cart position \\\n",
        "1: cart velocity \\\n",
        "2: pole angle \\\n",
        "3: pole angular velocity"
      ],
      "metadata": {
        "id": "A7zIH-DsZhC9"
      }
    },
    {
      "cell_type": "code",
      "source": [
        "# The info dict can hold additional information - in CartPole-v1 it's empty\n",
        "info"
      ],
      "metadata": {
        "colab": {
          "base_uri": "https://localhost:8080/"
        },
        "id": "ZYVjZWpt1wG9",
        "outputId": "071dae71-f76f-44c7-f4a8-b6de84e53b95"
      },
      "execution_count": null,
      "outputs": [
        {
          "output_type": "execute_result",
          "data": {
            "text/plain": [
              "{}"
            ]
          },
          "metadata": {},
          "execution_count": 6
        }
      ]
    },
    {
      "cell_type": "code",
      "source": [
        "# Render the environment as an image\n",
        "img = env.render()\n",
        "img.shape # heigth, width, channels (3 = Red, Green, Blue)"
      ],
      "metadata": {
        "colab": {
          "base_uri": "https://localhost:8080/"
        },
        "id": "CFhe76CJ3cYE",
        "outputId": "9f836f41-ee14-421f-ee0b-0b4866893e2b"
      },
      "execution_count": null,
      "outputs": [
        {
          "output_type": "execute_result",
          "data": {
            "text/plain": [
              "(400, 600, 3)"
            ]
          },
          "metadata": {},
          "execution_count": 7
        }
      ]
    },
    {
      "cell_type": "code",
      "source": [
        "imshow(img);"
      ],
      "metadata": {
        "colab": {
          "base_uri": "https://localhost:8080/",
          "height": 396
        },
        "id": "wKB0hisY5YJU",
        "outputId": "8d28c699-57aa-473a-b6bc-2c246dc97626"
      },
      "execution_count": null,
      "outputs": [
        {
          "output_type": "display_data",
          "data": {
            "text/plain": [
              "<Figure size 640x480 with 1 Axes>"
            ],
            "image/png": "[encoded data removed]"
          },
          "metadata": {}
        }
      ]
    },
    {
      "cell_type": "markdown",
      "source": [
        "For CartPole-v1 there are 2 actions for the cart: \\\n",
        "1 - accelerate to the right \\\n",
        "2 - accelerate to the left"
      ],
      "metadata": {
        "id": "LxwFiU--ZIcY"
      }
    },
    {
      "cell_type": "code",
      "source": [
        "# See what actions are possible\n",
        "env.action_space"
      ],
      "metadata": {
        "colab": {
          "base_uri": "https://localhost:8080/"
        },
        "id": "ZU4PRzOd3rc0",
        "outputId": "deff65e7-82a5-4f3b-fec8-267d0ac7b869"
      },
      "execution_count": null,
      "outputs": [
        {
          "output_type": "execute_result",
          "data": {
            "text/plain": [
              "Discrete(2)"
            ]
          },
          "metadata": {},
          "execution_count": 9
        }
      ]
    },
    {
      "cell_type": "code",
      "source": [
        "# Since the pole is leaning to the right obs[2] > 0 let's accelerate the cart toward the right\n",
        "action = 1 # accelerate right\n",
        "obs, reward, done, truncated, info = env.step(action)\n",
        "obs"
      ],
      "metadata": {
        "colab": {
          "base_uri": "https://localhost:8080/"
        },
        "id": "wlh98Xn84Jer",
        "outputId": "b804c71b-22c1-4be8-9309-5546d1e015c7"
      },
      "execution_count": null,
      "outputs": [
        {
          "output_type": "execute_result",
          "data": {
            "text/plain": [
              "array([ 0.02727336,  0.18847767,  0.03625453, -0.26141977], dtype=float32)"
            ]
          },
          "metadata": {},
          "execution_count": 10
        }
      ]
    },
    {
      "cell_type": "code",
      "source": [
        "imshow(env.render());"
      ],
      "metadata": {
        "colab": {
          "base_uri": "https://localhost:8080/",
          "height": 396
        },
        "id": "UE_BW02Q4vxu",
        "outputId": "cfae10b2-737c-46e8-c0d5-72ba4af4b8f4"
      },
      "execution_count": null,
      "outputs": [
        {
          "output_type": "display_data",
          "data": {
            "text/plain": [
              "<Figure size 640x480 with 1 Axes>"
            ],
            "image/png": "[encoded data removed]"
          },
          "metadata": {}
        }
      ]
    },
    {
      "cell_type": "markdown",
      "source": [
        "# Hard-coded policy\n",
        "Hardcode a policy that accelerates left when the pole is leaning toward the left and right when the pole is leaning toward the right"
      ],
      "metadata": {
        "id": "NUYcVrz56irh"
      }
    },
    {
      "cell_type": "code",
      "source": [
        "def basic_policy(obs):\n",
        "  angle = obs[2]\n",
        "  return 0 if angle < 0 else 1"
      ],
      "metadata": {
        "id": "CO2RTtvx6Xgd"
      },
      "execution_count": null,
      "outputs": []
    },
    {
      "cell_type": "markdown",
      "source": [
        "Now we want to see how good our policy performs in 500 episodes with 200 steps each (max for one episode)"
      ],
      "metadata": {
        "id": "rjpUpdCTaSSf"
      }
    },
    {
      "cell_type": "code",
      "source": [
        "totals = []\n",
        "for episode in range(500):\n",
        "  episode_rewards = 0\n",
        "  obs, info = env.reset(seed=episode)\n",
        "  for step in range(200):\n",
        "    action = basic_policy(obs)\n",
        "    obs, reward, done, truncated, info = env.step(action)\n",
        "    episode_rewards += reward\n",
        "    if done or truncated:\n",
        "      break\n",
        "    totals.append(episode_rewards)"
      ],
      "metadata": {
        "id": "H-Z5PN8D6hZf"
      },
      "execution_count": null,
      "outputs": []
    },
    {
      "cell_type": "code",
      "source": [
        "np.mean(totals), np.std(totals), min(totals), max(totals)"
      ],
      "metadata": {
        "colab": {
          "base_uri": "https://localhost:8080/"
        },
        "id": "YLohNS9d-TS_",
        "outputId": "74772cd7-0ee6-4823-c1b8-36a877e26d4f"
      },
      "execution_count": null,
      "outputs": [
        {
          "output_type": "execute_result",
          "data": {
            "text/plain": [
              "(21.713696004717676, 13.151677912691767, 1.0, 62.0)"
            ]
          },
          "metadata": {},
          "execution_count": 14
        }
      ]
    },
    {
      "cell_type": "markdown",
      "source": [
        "# Neural network policy"
      ],
      "metadata": {
        "id": "NCdwKa9Zfzfq"
      }
    },
    {
      "cell_type": "code",
      "source": [
        "model = tf.keras.Sequential([\n",
        "    tf.keras.layers.Dense(5, activation=\"relu\"),\n",
        "    tf.keras.layers.Dense(1, activation=\"sigmoid\")\n",
        "])"
      ],
      "metadata": {
        "id": "9Fd3ZwIdfwtd"
      },
      "execution_count": null,
      "outputs": []
    },
    {
      "cell_type": "code",
      "source": [
        "def play_one_step(env, obs, model, loss_fn):\n",
        "  with tf.GradientTape() as tape: # Using GradientTape for automatic differentiation\n",
        "    # Geting the probability of going left\n",
        "    left_proba = model(obs[np.newaxis]) # Reshape the observation so it becomes a batch containing a single instance as the model expects a batch\n",
        "    # Choose a stochastic action based on the model prediction in order to explore the environment\n",
        "    action = (tf.random.uniform([1, 1]) > left_proba) # Sample random float between 0 and 1 and check if it is greater than the left probability\n",
        "    y_target = tf.constant([[1.]]) - tf.cast(action, tf.float32) # Target prob. is 1 - action so if the action is left (0) then the target prob. of going left will be 1\n",
        "    loss = tf.reduce_mean(loss_fn(y_target, left_proba)) # Compute the loss with the given function\n",
        "\n",
        "  grads = tape.gradient(loss, model.trainable_variables) # Compute the gradient of the loss with regard to the model's trainable parameters\n",
        "  obs, reward, done, truncated, info = env.step(int(action)) # Play the selected action and return new observation and the other things\n",
        "\n",
        "  return obs, reward, done, truncated, grads"
      ],
      "metadata": {
        "id": "thMGUOe7hgx-"
      },
      "execution_count": null,
      "outputs": []
    },
    {
      "cell_type": "code",
      "source": [
        "def play_multiple_episodes(env, n_episodes, n_max_steps, model, loss_fn):\n",
        "  all_rewards = []\n",
        "  all_grads = []\n",
        "  for episode in range(n_episodes):\n",
        "    current_rewards = []\n",
        "    current_grads = []\n",
        "    obs, info = env.reset()\n",
        "    for step in range(n_max_steps):\n",
        "      obs, reward, done, truncated, grads = play_one_step(env, obs, model, loss_fn)\n",
        "      current_rewards.append(reward)\n",
        "      current_grads.append(grads)\n",
        "      if done or truncated:\n",
        "        break\n",
        "    all_rewards.append(current_rewards)\n",
        "    all_grads.append(current_grads)\n",
        "\n",
        "  # Return a list of reward lists: one reward list per episode, containing one reward per step\n",
        "  # and a list of gradient lists: one gradient list per episode, containing one tuple of gradients per step and each tuple containing one gradient tensor per traineable variable\n",
        "  return all_rewards, all_grads"
      ],
      "metadata": {
        "id": "J0sFGuoiq7SM"
      },
      "execution_count": null,
      "outputs": []
    },
    {
      "cell_type": "code",
      "source": [
        "def discount_rewards(rewards, discount_factor):\n",
        "  \"\"\"Compute the sum of future discounted rewards at each step\n",
        "\n",
        "  If the discount factor is close to 0, then future rewards won't count for much compared to immediate rewards.\n",
        "  If the discount factor is close to 1, then rewards far into the future will count almost as much as\n",
        "  immediate rewards.\n",
        "  \"\"\"\n",
        "  discounted = np.array(rewards)\n",
        "  for step in range(len(rewards) - 2, -1, -1):\n",
        "    discounted[step] += discounted[step + 1] * discount_factor\n",
        "\n",
        "  return discounted\n",
        "\n",
        "def discount_and_normalize_rewards(all_rewards, discount_factor):\n",
        "  \"\"\"Normalize discounted rewards across many episodes\n",
        "\n",
        "  This is achieved by subtracting the mean and dividing by the standard deviation.\n",
        "  \"\"\"\n",
        "  all_discounted_rewards = [discount_rewards(rewards, discount_factor) for rewards in all_rewards]\n",
        "  flat_rewards = np.concatenate(all_discounted_rewards)\n",
        "  reward_mean = flat_rewards.mean()\n",
        "  reward_std = flat_rewards.std()\n",
        "\n",
        "  return [(discounted_rewards - reward_mean) / reward_std for discounted_rewards in all_discounted_rewards]"
      ],
      "metadata": {
        "id": "p04p8I1RwqCj"
      },
      "execution_count": null,
      "outputs": []
    },
    {
      "cell_type": "code",
      "source": [
        "# Define the hyperparameters\n",
        "n_iterations = 150\n",
        "n_episodes_per_update = 10\n",
        "n_max_steps = 200\n",
        "# Typical discount factors vary from 0.9 to 0.99\n",
        "discount_factor = 0.95  # In our example actions have fairly short-term effects so this factor seems reasonable"
      ],
      "metadata": {
        "id": "7jD7LnPwATMh"
      },
      "execution_count": null,
      "outputs": []
    },
    {
      "cell_type": "code",
      "source": [
        "optimizer = tf.keras.optimizers.Nadam(learning_rate=0.01)\n",
        "loss_fn = tf.keras.losses.binary_crossentropy"
      ],
      "metadata": {
        "id": "2ejrAoqeA7na"
      },
      "execution_count": null,
      "outputs": []
    },
    {
      "cell_type": "markdown",
      "source": [
        "#### Training loop explained\n",
        "1. At each iteration play_multiple_episodes() is called, which plays 10 episodes and returns the rewards and gradients for each step in each episode\n",
        "2. The next thing is to call discount_and_normalize(), which computes each action's normalized advantage. (Remember: the discounted rewards provide a measure of how good or bad an action was)\n",
        "3. In the inner loop we go trough each traineable variable - for each of them compute the weighted mean of the gradients for that variable over all episodes and steps\n",
        "4. Apply the gradients by calling the optimizer"
      ],
      "metadata": {
        "id": "6Q9yYb16ox5P"
      }
    },
    {
      "cell_type": "code",
      "source": [
        "# The training loop\n",
        "for iteration in range(n_iterations):\n",
        "  all_rewards, all_grads = play_multiple_episodes(env, n_episodes_per_update, n_max_steps, model, loss_fn)\n",
        "  total_rewards = sum(map(sum, all_rewards))\n",
        "  print(\"\\rIteration: {}, mean rewards: {:.1f}\".format(iteration, total_rewards / n_episodes_per_update), end=\"\")\n",
        "  all_final_rewards = discount_and_normalize_rewards(all_rewards, discount_factor)\n",
        "  all_mean_grads = []\n",
        "\n",
        "  for var_index in range(len(model.trainable_variables)):\n",
        "    mean_grads = tf.reduce_mean([final_reward * all_grads[episode_index][step][var_index]\n",
        "                                 for episode_index, final_rewards in enumerate(all_final_rewards)\n",
        "                                     for step, final_reward in enumerate(final_rewards)], axis=0)\n",
        "    all_mean_grads.append(mean_grads)\n",
        "\n",
        "  optimizer.apply_gradients(zip(all_mean_grads, model.trainable_variables))\n",
        "\n",
        "env.close()"
      ],
      "metadata": {
        "colab": {
          "base_uri": "https://localhost:8080/"
        },
        "id": "cZz29N_MBLeI",
        "outputId": "77129d4c-c4f2-44fe-c6f6-99317a8f1d03"
      },
      "execution_count": null,
      "outputs": [
        {
          "output_type": "stream",
          "name": "stdout",
          "text": [
            "Iteration: 149, mean rewards: 174.6"
          ]
        }
      ]
    },
    {
      "cell_type": "code",
      "source": [],
      "metadata": {
        "id": "4Nenv3_-lAP0"
      },
      "execution_count": null,
      "outputs": []
    }
  ]
}